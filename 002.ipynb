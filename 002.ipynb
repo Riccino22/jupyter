{
 "cells": [
  {
   "cell_type": "code",
   "execution_count": 3,
   "id": "e5f17d75-3289-44f6-b0cd-d69fce060765",
   "metadata": {},
   "outputs": [],
   "source": [
    "import pandas as pd"
   ]
  },
  {
   "cell_type": "code",
   "execution_count": 5,
   "id": "01e8ede3-819b-48b6-8dff-806bd707e2c1",
   "metadata": {},
   "outputs": [],
   "source": [
    "df = pd.read_csv(\"movies.csv\")"
   ]
  },
  {
   "cell_type": "markdown",
   "id": "61b33bae-f442-4de7-8328-fa327f61d15b",
   "metadata": {},
   "source": [
    "# How many movies have been given a raiting of 10 points?"
   ]
  },
  {
   "cell_type": "code",
   "execution_count": 12,
   "id": "eaf1c3c0-1f0c-47a9-9183-8d60b255f966",
   "metadata": {},
   "outputs": [
    {
     "data": {
      "text/html": [
       "<div>\n",
       "<style scoped>\n",
       "    .dataframe tbody tr th:only-of-type {\n",
       "        vertical-align: middle;\n",
       "    }\n",
       "\n",
       "    .dataframe tbody tr th {\n",
       "        vertical-align: top;\n",
       "    }\n",
       "\n",
       "    .dataframe thead th {\n",
       "        text-align: right;\n",
       "    }\n",
       "</style>\n",
       "<table border=\"1\" class=\"dataframe\">\n",
       "  <thead>\n",
       "    <tr style=\"text-align: right;\">\n",
       "      <th></th>\n",
       "      <th>original_title</th>\n",
       "    </tr>\n",
       "  </thead>\n",
       "  <tbody>\n",
       "    <tr>\n",
       "      <th>3519</th>\n",
       "      <td>Stiff Upper Lips</td>\n",
       "    </tr>\n",
       "    <tr>\n",
       "      <th>4045</th>\n",
       "      <td>Dancer, Texas Pop. 81</td>\n",
       "    </tr>\n",
       "    <tr>\n",
       "      <th>4247</th>\n",
       "      <td>Me You and Five Bucks</td>\n",
       "    </tr>\n",
       "    <tr>\n",
       "      <th>4662</th>\n",
       "      <td>Little Big Top</td>\n",
       "    </tr>\n",
       "  </tbody>\n",
       "</table>\n",
       "</div>"
      ],
      "text/plain": [
       "             original_title\n",
       "3519       Stiff Upper Lips\n",
       "4045  Dancer, Texas Pop. 81\n",
       "4247  Me You and Five Bucks\n",
       "4662         Little Big Top"
      ]
     },
     "execution_count": 12,
     "metadata": {},
     "output_type": "execute_result"
    }
   ],
   "source": [
    "df.loc[df[\"vote_average\"] == 10][[\"original_title\"]]"
   ]
  },
  {
   "cell_type": "markdown",
   "id": "9f8994dd-e758-4f60-8929-f01176d9571c",
   "metadata": {},
   "source": [
    "# What is the name of the most popular movie?"
   ]
  },
  {
   "cell_type": "code",
   "execution_count": 21,
   "id": "a56449ae-e0a1-478b-93a8-98c15a8f3be0",
   "metadata": {},
   "outputs": [
    {
     "data": {
      "text/html": [
       "<div>\n",
       "<style scoped>\n",
       "    .dataframe tbody tr th:only-of-type {\n",
       "        vertical-align: middle;\n",
       "    }\n",
       "\n",
       "    .dataframe tbody tr th {\n",
       "        vertical-align: top;\n",
       "    }\n",
       "\n",
       "    .dataframe thead th {\n",
       "        text-align: right;\n",
       "    }\n",
       "</style>\n",
       "<table border=\"1\" class=\"dataframe\">\n",
       "  <thead>\n",
       "    <tr style=\"text-align: right;\">\n",
       "      <th></th>\n",
       "      <th>popularity</th>\n",
       "      <th>original_title</th>\n",
       "    </tr>\n",
       "  </thead>\n",
       "  <tbody>\n",
       "    <tr>\n",
       "      <th>546</th>\n",
       "      <td>875.581305</td>\n",
       "      <td>Minions</td>\n",
       "    </tr>\n",
       "  </tbody>\n",
       "</table>\n",
       "</div>"
      ],
      "text/plain": [
       "     popularity original_title\n",
       "546  875.581305        Minions"
      ]
     },
     "execution_count": 21,
     "metadata": {},
     "output_type": "execute_result"
    }
   ],
   "source": [
    "df.loc[df[\"popularity\"] == df[\"popularity\"].max()][[\"popularity\", \"original_title\"]]"
   ]
  },
  {
   "cell_type": "markdown",
   "id": "a5982867-48a0-4def-a658-534b3ba1dd37",
   "metadata": {},
   "source": [
    "# Create a new column for stars movie"
   ]
  },
  {
   "cell_type": "code",
   "execution_count": 25,
   "id": "2807ee5a-0f9b-4c53-b644-903866489e5f",
   "metadata": {},
   "outputs": [
    {
     "data": {
      "text/html": [
       "<div>\n",
       "<style scoped>\n",
       "    .dataframe tbody tr th:only-of-type {\n",
       "        vertical-align: middle;\n",
       "    }\n",
       "\n",
       "    .dataframe tbody tr th {\n",
       "        vertical-align: top;\n",
       "    }\n",
       "\n",
       "    .dataframe thead th {\n",
       "        text-align: right;\n",
       "    }\n",
       "</style>\n",
       "<table border=\"1\" class=\"dataframe\">\n",
       "  <thead>\n",
       "    <tr style=\"text-align: right;\">\n",
       "      <th></th>\n",
       "      <th>index</th>\n",
       "      <th>budget</th>\n",
       "      <th>genres</th>\n",
       "      <th>homepage</th>\n",
       "      <th>id</th>\n",
       "      <th>keywords</th>\n",
       "      <th>original_language</th>\n",
       "      <th>original_title</th>\n",
       "      <th>overview</th>\n",
       "      <th>popularity</th>\n",
       "      <th>...</th>\n",
       "      <th>spoken_languages</th>\n",
       "      <th>status</th>\n",
       "      <th>tagline</th>\n",
       "      <th>title</th>\n",
       "      <th>vote_average</th>\n",
       "      <th>vote_count</th>\n",
       "      <th>cast</th>\n",
       "      <th>crew</th>\n",
       "      <th>director</th>\n",
       "      <th>stars</th>\n",
       "    </tr>\n",
       "  </thead>\n",
       "  <tbody>\n",
       "    <tr>\n",
       "      <th>1</th>\n",
       "      <td>1</td>\n",
       "      <td>300000000</td>\n",
       "      <td>Adventure Fantasy Action</td>\n",
       "      <td>http://disney.go.com/disneypictures/pirates/</td>\n",
       "      <td>285</td>\n",
       "      <td>ocean drug abuse exotic island east india trad...</td>\n",
       "      <td>en</td>\n",
       "      <td>Pirates of the Caribbean: At World's End</td>\n",
       "      <td>Captain Barbossa, long believed to be dead, ha...</td>\n",
       "      <td>139.082615</td>\n",
       "      <td>...</td>\n",
       "      <td>[{\"iso_639_1\": \"en\", \"name\": \"English\"}]</td>\n",
       "      <td>Released</td>\n",
       "      <td>At the end of the world, the adventure begins.</td>\n",
       "      <td>Pirates of the Caribbean: At World's End</td>\n",
       "      <td>6.9</td>\n",
       "      <td>4500</td>\n",
       "      <td>Johnny Depp Orlando Bloom Keira Knightley Stel...</td>\n",
       "      <td>[{'name': 'Dariusz Wolski', 'gender': 2, 'depa...</td>\n",
       "      <td>Gore Verbinski</td>\n",
       "      <td>3.45</td>\n",
       "    </tr>\n",
       "  </tbody>\n",
       "</table>\n",
       "<p>1 rows × 25 columns</p>\n",
       "</div>"
      ],
      "text/plain": [
       "   index     budget                    genres  \\\n",
       "1      1  300000000  Adventure Fantasy Action   \n",
       "\n",
       "                                       homepage   id  \\\n",
       "1  http://disney.go.com/disneypictures/pirates/  285   \n",
       "\n",
       "                                            keywords original_language  \\\n",
       "1  ocean drug abuse exotic island east india trad...                en   \n",
       "\n",
       "                             original_title  \\\n",
       "1  Pirates of the Caribbean: At World's End   \n",
       "\n",
       "                                            overview  popularity  ...  \\\n",
       "1  Captain Barbossa, long believed to be dead, ha...  139.082615  ...   \n",
       "\n",
       "                           spoken_languages    status  \\\n",
       "1  [{\"iso_639_1\": \"en\", \"name\": \"English\"}]  Released   \n",
       "\n",
       "                                          tagline  \\\n",
       "1  At the end of the world, the adventure begins.   \n",
       "\n",
       "                                      title  vote_average vote_count  \\\n",
       "1  Pirates of the Caribbean: At World's End           6.9       4500   \n",
       "\n",
       "                                                cast  \\\n",
       "1  Johnny Depp Orlando Bloom Keira Knightley Stel...   \n",
       "\n",
       "                                                crew        director  stars  \n",
       "1  [{'name': 'Dariusz Wolski', 'gender': 2, 'depa...  Gore Verbinski   3.45  \n",
       "\n",
       "[1 rows x 25 columns]"
      ]
     },
     "execution_count": 25,
     "metadata": {},
     "output_type": "execute_result"
    }
   ],
   "source": [
    "df[\"stars\"] = df[\"vote_average\"] / 2\n",
    "df[1:2]"
   ]
  },
  {
   "cell_type": "markdown",
   "id": "0884c726-2958-4a2f-af7f-15247fe19c4e",
   "metadata": {},
   "source": [
    "# Create a stars histogram for the movies for votes less of 3"
   ]
  },
  {
   "cell_type": "code",
   "execution_count": 30,
   "id": "e61a8953-3fa6-47c8-8008-a9965e7be41d",
   "metadata": {},
   "outputs": [
    {
     "data": {
      "text/plain": [
       "<Axes: >"
      ]
     },
     "execution_count": 30,
     "metadata": {},
     "output_type": "execute_result"
    },
    {
     "data": {
      "image/png": "[encoded data removed]",
      "text/plain": [
       "<Figure size 640x480 with 1 Axes>"
      ]
     },
     "metadata": {},
     "output_type": "display_data"
    }
   ],
   "source": [
    "df.loc[df[\"stars\"] < 3][\"stars\"].hist()"
   ]
  },
  {
   "cell_type": "code",
   "execution_count": null,
   "id": "83ce66f0-5384-4dc0-9316-2c6dcff5591e",
   "metadata": {},
   "outputs": [],
   "source": []
  }
 ],
 "metadata": {
  "kernelspec": {
   "display_name": "Python 3 (ipykernel)",
   "language": "python",
   "name": "python3"
  },
  "language_info": {
   "codemirror_mode": {
    "name": "ipython",
    "version": 3
   },
   "file_extension": ".py",
   "mimetype": "text/x-python",
   "name": "python",
   "nbconvert_exporter": "python",
   "pygments_lexer": "ipython3",
   "version": "3.12.3"
  }
 },
 "nbformat": 4,
 "nbformat_minor": 5
}
