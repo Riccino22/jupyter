{
 "cells": [
  {
   "cell_type": "code",
   "execution_count": 108,
   "metadata": {},
   "outputs": [],
   "source": [
    "with open(\"alice_in_wonderland.txt\", \"r\") as file:\n",
    "    book = file.read()"
   ]
  },
  {
   "cell_type": "markdown",
   "metadata": {},
   "source": [
    "# Chapter Titles"
   ]
  },
  {
   "cell_type": "code",
   "execution_count": 109,
   "metadata": {},
   "outputs": [
    {
     "data": {
      "text/plain": [
       "['CHAPTER I =  Down the Rabbit-Hole ',\n",
       " 'CHAPTER II = The Pool of Tears ',\n",
       " 'CHAPTER III = A Caucus-Race and a Long Tale ',\n",
       " 'CHAPTER IV = The Rabbit Sends in a Little Bill ',\n",
       " 'CHAPTER V = Advice from a Caterpillar ',\n",
       " 'CHAPTER VI = Pig and Pepper ',\n",
       " 'CHAPTER VII = A Mad Tea-Party ',\n",
       " \"CHAPTER VIII = The Queen's Croquet-Ground \",\n",
       " \"CHAPTER IX = The Mock Turtle's Story \",\n",
       " 'CHAPTER X = The Lobster Quadrille ',\n",
       " 'CHAPTER XI = Who Stole the Tarts? ',\n",
       " \"CHAPTER XII = Alice's Evidence \"]"
      ]
     },
     "execution_count": 109,
     "metadata": {},
     "output_type": "execute_result"
    }
   ],
   "source": [
    "import re\n",
    "\n",
    "pattern = re.compile(\"CHAPTER [A-Z]+[^a-zA-Z]+[^)=]*\")\n",
    "findings = re.findall(pattern, book.replace(\"\\n=(\", \"\"))\n",
    "findings"
   ]
  },
  {
   "cell_type": "code",
   "execution_count": 110,
   "metadata": {},
   "outputs": [
    {
     "data": {
      "text/plain": [
       "['CHAPTER I =  Down the Rabbit-Hole ',\n",
       " 'CHAPTER II = The Pool of Tears ',\n",
       " 'CHAPTER III = A Caucus-Race and a Long Tale ',\n",
       " 'CHAPTER IV = The Rabbit Sends in a Little Bill ',\n",
       " 'CHAPTER V = Advice from a Caterpillar ',\n",
       " 'CHAPTER VI = Pig and Pepper ',\n",
       " 'CHAPTER VII = A Mad Tea-Party ',\n",
       " \"CHAPTER VIII = The Queen's Croquet-Ground \",\n",
       " \"CHAPTER IX = The Mock Turtle's Story \",\n",
       " 'CHAPTER X = The Lobster Quadrille ',\n",
       " 'CHAPTER XI = Who Stole the Tarts? ',\n",
       " \"CHAPTER XII = Alice's Evidence \"]"
      ]
     },
     "execution_count": 110,
     "metadata": {},
     "output_type": "execute_result"
    }
   ],
   "source": [
    "findings"
   ]
  },
  {
   "cell_type": "markdown",
   "metadata": {},
   "source": [
    "# Paragraphs where \"long\" is used "
   ]
  },
  {
   "cell_type": "code",
   "execution_count": 141,
   "metadata": {},
   "outputs": [
    {
     "data": {
      "text/plain": [
       "[\"\\n\\n  `Only mustard isn't a bird,' Alice remarked.\\n\\n\",\n",
       " \"\\n\\n  `It's a mineral, I THINK,' said Alice.\\n\\n\",\n",
       " \"\\n\\n  `No,' said Alice.  `I don't even know what a Mock Turtle is.'\\n\\n\",\n",
       " \"\\n\\n  `I never saw one, or heard of one,' said Alice.\\n\\n\",\n",
       " \"\\n\\n  `What IS the fun?' said Alice.\\n\\n\",\n",
       " \"\\n\\n  `Why did you call him Tortoise, if he wasn't one?' Alice asked.\\n\\n\",\n",
       " \"\\n\\n  `I never said I didn't!' interrupted Alice.\\n\\n\",\n",
       " \"\\n\\n  `Yes,' said Alice, `we learned French and music.'\\n\\n\",\n",
       " \"\\n\\n  `Certainly not!' said Alice indignantly.\\n\\n\",\n",
       " \"\\n\\n  `What was that?' inquired Alice.\\n\\n\",\n",
       " '\\n\\n  `I never heard of \"Uglification,\"\\' Alice ventured to say.  `What is it?\\'\\n\\n',\n",
       " \"\\n\\n  `Yes,' said Alice doubtfully:  `it means--to--make--anything--prettier.'\\n\\n\",\n",
       " \"\\n\\n  `What was THAT like?' said Alice.\\n\\n\",\n",
       " \"\\n\\n  `What a curious plan!' exclaimed Alice.\\n\\n\",\n",
       " \"\\n\\n  `And how did you manage on the twelfth?' Alice went on eagerly.\\n\\n\",\n",
       " \"\\n\\n  `No, indeed,' said Alice.  `What sort of a dance is it?'\\n\\n\",\n",
       " \"\\n\\n  `It must be a very pretty dance,' said Alice timidly.\\n\\n\",\n",
       " \"\\n\\n  `Very much indeed,' said Alice.\\n\\n\",\n",
       " \"\\n\\n  `I never thought about it,' said Alice.  `Why?'\\n\\n\",\n",
       " \"\\n\\n  `Wouldn't it really?' said Alice in a tone of great surprise.\\n\\n\",\n",
       " '\\n\\n  `Don\\'t you mean \"purpose\"?\\' said Alice.\\n\\n',\n",
       " \"\\n\\n  `I can't help it,' said Alice very meekly:  `I'm growing.'\\n\\n\",\n",
       " \"\\n\\n  `Nothing,' said Alice.\\n\\n\",\n",
       " \"\\n\\n  `Nothing whatever,' said Alice.\\n\\n\",\n",
       " '\\n\\n  Everybody looked at Alice.\\n\\n',\n",
       " \"\\n\\n  `Then it ought to be Number One,' said Alice.\\n\\n\",\n",
       " \"\\n\\n  `I won't!' said Alice.\\n\\n\"]"
      ]
     },
     "execution_count": 141,
     "metadata": {},
     "output_type": "execute_result"
    }
   ],
   "source": [
    "pattern = re.compile(\"\"\"\\n\\n+[^\\n]+Alice[^\\n]+\\n\\n\"\"\")\n",
    "findings[30:]"
   ]
  },
  {
   "cell_type": "markdown",
   "metadata": {},
   "source": [
    "# Function for find number of any word"
   ]
  },
  {
   "cell_type": "code",
   "execution_count": 118,
   "metadata": {},
   "outputs": [
    {
     "data": {
      "text/plain": [
       "376"
      ]
     },
     "execution_count": 118,
     "metadata": {},
     "output_type": "execute_result"
    }
   ],
   "source": [
    "def find(word):\n",
    "    pattern = re.compile(f\" {word.lower()}[^a-zA-Z]\")\n",
    "    findings = re.findall(pattern, book.lower())\n",
    "    return len(findings) if len(findings) > 0 else \"Does not found concidence\"\n",
    "find(\"Alice\")"
   ]
  }
 ],
 "metadata": {
  "kernelspec": {
   "display_name": "venv",
   "language": "python",
   "name": "python3"
  },
  "language_info": {
   "codemirror_mode": {
    "name": "ipython",
    "version": 3
   },
   "file_extension": ".py",
   "mimetype": "text/x-python",
   "name": "python",
   "nbconvert_exporter": "python",
   "pygments_lexer": "ipython3",
   "version": "3.12.3"
  }
 },
 "nbformat": 4,
 "nbformat_minor": 2
}
